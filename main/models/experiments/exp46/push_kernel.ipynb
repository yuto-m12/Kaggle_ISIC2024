{
 "cells": [
  {
   "cell_type": "code",
   "execution_count": 1,
   "metadata": {},
   "outputs": [
    {
     "name": "stdout",
     "output_type": "stream",
     "text": [
      "Skipping folder: fold3; use '--dir-mode' to upload folders\n",
      "Starting upload for file averaged_model.pth\n"
     ]
    },
    {
     "name": "stdout",
     "output_type": "stream",
     "text": [
      "Warning: Looks like you're using an outdated API Version, please consider updating (server 1.6.17 / client 1.6.14)\n"
     ]
    },
    {
     "name": "stderr",
     "output_type": "stream",
     "text": [
      "100%|██████████| 28.0M/28.0M [00:02<00:00, 12.3MB/s]\n"
     ]
    },
    {
     "name": "stdout",
     "output_type": "stream",
     "text": [
      "Upload successful: averaged_model.pth (28MB)\n",
      "Starting upload for file voting_classifier.pkl\n"
     ]
    },
    {
     "name": "stderr",
     "output_type": "stream",
     "text": [
      "100%|██████████| 1.99M/1.99M [00:01<00:00, 1.38MB/s]\n"
     ]
    },
    {
     "name": "stdout",
     "output_type": "stream",
     "text": [
      "Upload successful: voting_classifier.pkl (2MB)\n",
      "Skipping folder: fold1; use '--dir-mode' to upload folders\n",
      "Starting upload for file best_model_fold0.pth\n"
     ]
    },
    {
     "name": "stderr",
     "output_type": "stream",
     "text": [
      "100%|██████████| 28.0M/28.0M [00:02<00:00, 12.7MB/s]\n"
     ]
    },
    {
     "name": "stdout",
     "output_type": "stream",
     "text": [
      "Upload successful: best_model_fold0.pth (28MB)\n",
      "Starting upload for file test_meta.parquet\n"
     ]
    },
    {
     "name": "stderr",
     "output_type": "stream",
     "text": [
      "100%|██████████| 156k/156k [00:00<00:00, 166kB/s]\n"
     ]
    },
    {
     "name": "stdout",
     "output_type": "stream",
     "text": [
      "Upload successful: test_meta.parquet (156KB)\n",
      "Starting upload for file best_model_fold2.pth\n"
     ]
    },
    {
     "name": "stderr",
     "output_type": "stream",
     "text": [
      "100%|██████████| 28.0M/28.0M [00:02<00:00, 13.2MB/s]\n"
     ]
    },
    {
     "name": "stdout",
     "output_type": "stream",
     "text": [
      "Upload successful: best_model_fold2.pth (28MB)\n",
      "Skipping folder: fold2; use '--dir-mode' to upload folders\n",
      "Skipping folder: fold4; use '--dir-mode' to upload folders\n",
      "Starting upload for file best_model_fold1.pth\n"
     ]
    },
    {
     "name": "stderr",
     "output_type": "stream",
     "text": [
      "100%|██████████| 28.0M/28.0M [00:02<00:00, 12.9MB/s]\n"
     ]
    },
    {
     "name": "stdout",
     "output_type": "stream",
     "text": [
      "Upload successful: best_model_fold1.pth (28MB)\n",
      "Skipping folder: fold0; use '--dir-mode' to upload folders\n",
      "Starting upload for file train_meta.parquet\n"
     ]
    },
    {
     "name": "stderr",
     "output_type": "stream",
     "text": [
      "100%|██████████| 473M/473M [00:15<00:00, 31.9MB/s] \n"
     ]
    },
    {
     "name": "stdout",
     "output_type": "stream",
     "text": [
      "Upload successful: train_meta.parquet (473MB)\n",
      "Starting upload for file best_model_fold3.pth\n"
     ]
    },
    {
     "name": "stderr",
     "output_type": "stream",
     "text": [
      "100%|██████████| 28.0M/28.0M [00:02<00:00, 13.4MB/s]\n"
     ]
    },
    {
     "name": "stdout",
     "output_type": "stream",
     "text": [
      "Upload successful: best_model_fold3.pth (28MB)\n",
      "Starting upload for file best_model_fold4.pth\n"
     ]
    },
    {
     "name": "stderr",
     "output_type": "stream",
     "text": [
      "100%|██████████| 28.0M/28.0M [00:02<00:00, 13.2MB/s]\n"
     ]
    },
    {
     "name": "stdout",
     "output_type": "stream",
     "text": [
      "Upload successful: best_model_fold4.pth (28MB)\n",
      "Dataset version is being created. Please check progress at https://www.kaggle.com/moyuto/isic2024-baseline\n",
      "Warning: Looks like you're using an outdated API Version, please consider updating (server 1.6.17 / client 1.6.14)\n",
      "Kernel version 40 successfully pushed.  Please check progress at https://www.kaggle.com/code/moyuto/isic2024-exp-infer\n"
     ]
    },
    {
     "data": {
      "text/plain": [
       "CompletedProcess(args='kaggle kernels push -p .', returncode=0)"
      ]
     },
     "execution_count": 1,
     "metadata": {},
     "output_type": "execute_result"
    }
   ],
   "source": [
    "import subprocess\n",
    "import json\n",
    "from config import exp\n",
    "\n",
    "command = f'kaggle datasets version -p outputs -m \"exp{exp}\"'\n",
    "subprocess.run(command, shell=True)\n",
    "\n",
    "command = f\"kaggle kernels push -p .\"\n",
    "subprocess.run(command, shell=True)"
   ]
  },
  {
   "cell_type": "code",
   "execution_count": 6,
   "metadata": {},
   "outputs": [
    {
     "name": "stdout",
     "output_type": "stream",
     "text": [
      "CNN_train_exp20.ipynb  kernel-metadata.json  outputs\n",
      "exp_update.ipynb       log.txt\t\t     push_kernel.ipynb\n"
     ]
    }
   ],
   "source": [
    "!ls"
   ]
  }
 ],
 "metadata": {
  "kernelspec": {
   "display_name": "base",
   "language": "python",
   "name": "python3"
  },
  "language_info": {
   "codemirror_mode": {
    "name": "ipython",
    "version": 3
   },
   "file_extension": ".py",
   "mimetype": "text/x-python",
   "name": "python",
   "nbconvert_exporter": "python",
   "pygments_lexer": "ipython3",
   "version": "3.10.13"
  }
 },
 "nbformat": 4,
 "nbformat_minor": 2
}
