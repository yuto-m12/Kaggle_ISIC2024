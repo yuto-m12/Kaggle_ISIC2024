{
 "cells": [
  {
   "cell_type": "code",
   "execution_count": null,
   "metadata": {},
   "outputs": [
    {
     "name": "stdout",
     "output_type": "stream",
     "text": [
      "['CNN_train_exp21.ipynb', '__pycache__', 'config.py', 'exp_update.ipynb', 'kernel-metadata.json', 'log.txt', 'outputs', 'push_kernel.ipynb']\n",
      "['exp1', 'exp10', 'exp11', 'exp12', 'exp13', 'exp14', 'exp15', 'exp16', 'exp17', 'exp18', 'exp19', 'exp2', 'exp20', 'exp21', 'exp3', 'exp4', 'exp5', 'exp6', 'exp7', 'exp8', 'exp9']\n"
     ]
    },
    {
     "name": "stderr",
     "output_type": "stream",
     "text": [
      "mv: 'CNN_train_exp21.ipynb' and 'CNN_train_exp21.ipynb' are the same file\n"
     ]
    }
   ],
   "source": [
    "import subprocess\n",
    "import json\n",
    "\n",
    "exp = 45\n",
    "\n",
    "ls = !ls\n",
    "parents = !ls ..\n",
    "\n",
    "print(ls)\n",
    "print(parents)\n",
    "\n",
    "# rename\n",
    "for l in ls:\n",
    "    if 'CNN_train_exp' in l:\n",
    "        # file rename\n",
    "        command = f\"mv {l} CNN_train_exp{exp}.ipynb\"\n",
    "        subprocess.run(command, shell=True)\n",
    "    if 'config.py' == l:\n",
    "        # overwrite\n",
    "        with open(l, \"w\") as f:\n",
    "            f.write(f\"exp={exp}\\n\")\n",
    "    if 'kernel-metadata.json' == l:\n",
    "        # load\n",
    "        with open(l, 'r') as file:\n",
    "            data = json.load(file)\n",
    "        # update\n",
    "        data['code_file'] = f\"/root/Development/Kaggle/ISIC2024/main/models/experiments/exp{exp}/CNN_train_exp{exp}.ipynb\"\n",
    "        # save\n",
    "        with open(l, 'w') as file:\n",
    "            json.dump(data, file, indent=2)\n",
    "            \n",
    "for parent in parents:\n",
    "    if 'copy' in parent:\n",
    "        # dir rename\n",
    "        parent = parent.replace(' ', '\\ ', )\n",
    "        command = f\"mv ../{parent}/ ../exp{exp}/\"\n",
    "        subprocess.run(command, shell=True)\n",
    "    "
   ]
  },
  {
   "cell_type": "code",
   "execution_count": null,
   "metadata": {},
   "outputs": [],
   "source": [
    "# import subprocess\n",
    "# import json\n",
    "\n",
    "# # Example command: listing files in the current directory\n",
    "# command = \"kaggle kernels init -p .\"\n",
    "# subprocess.run(command, shell=True)"
   ]
  }
 ],
 "metadata": {
  "kernelspec": {
   "display_name": "base",
   "language": "python",
   "name": "python3"
  },
  "language_info": {
   "codemirror_mode": {
    "name": "ipython",
    "version": 3
   },
   "file_extension": ".py",
   "mimetype": "text/x-python",
   "name": "python",
   "nbconvert_exporter": "python",
   "pygments_lexer": "ipython3",
   "version": "3.10.13"
  }
 },
 "nbformat": 4,
 "nbformat_minor": 2
}
