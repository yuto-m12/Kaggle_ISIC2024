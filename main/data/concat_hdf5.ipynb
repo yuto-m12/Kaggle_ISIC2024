{
 "cells": [
  {
   "cell_type": "code",
   "execution_count": 1,
   "metadata": {},
   "outputs": [],
   "source": [
    "from pathlib import Path\n",
    "\n",
    "OUTPUT_DIR = Path(f'/root/Development/Kaggle/ISIC2024/data/processed')\n",
    "TRAIN_DIR = Path('/root/Development/Kaggle/ISIC2024/data/raw/train-image/image')\n",
    "TRAIN_HDF5 = Path('/root/Development/Kaggle/ISIC2024/data/raw/train-image.hdf5')\n",
    "TEST_HDF5 = Path('/root/Development/Kaggle/ISIC2024/data/raw/test-image.hdf5')\n",
    "TRAIN_META = Path('/root/Development/Kaggle/ISIC2024/data/raw/train-metadata.csv')\n",
    "TEST_META = Path('/root/Development/Kaggle/ISIC2024/data/raw/test-metadata.csv')\n",
    "SAMPLE_SUB = Path('/root/Development/Kaggle/ISIC2024/data/raw/sample_submission.csv')\n",
    "TRAIN_META_ADD = Path('/root/Development/Kaggle/ISIC2024/data/external/All/metadata.csv')\n",
    "TRAIN_HDF5_ADD = Path('/root/Development/Kaggle/ISIC2024/data/external/All/image.hdf5')"
   ]
  },
  {
   "cell_type": "code",
   "execution_count": 2,
   "metadata": {},
   "outputs": [
    {
     "name": "stdout",
     "output_type": "stream",
     "text": [
      "全ファイルが統合されました。\n"
     ]
    }
   ],
   "source": [
    "import h5py\n",
    "import os\n",
    "import numpy as np\n",
    "\n",
    "# 処理するファイルのリストを作成\n",
    "file_list = [TRAIN_HDF5, TRAIN_HDF5_ADD]  # 例として3つのファイル\n",
    "\n",
    "# 新しいHDF5ファイルを作成\n",
    "with h5py.File(OUTPUT_DIR / 'train-image-combined.hdf5', 'w') as combined_file:\n",
    "    for file_name in file_list:\n",
    "        with h5py.File(file_name, 'r') as file:\n",
    "            # そのファイルの全てのキーを繰り返し処理\n",
    "            for key in file.keys():\n",
    "                # データセットを読み込む\n",
    "                data = file[key]\n",
    "                # 新しいファイルにデータセットを書き込む（既に存在するキーは上書きされる可能性があるため、注意）\n",
    "                if key in combined_file:\n",
    "                    # 既にキーが存在する場合は、データを連結（ここでは単純化のために追加のみを示す）\n",
    "                    existing_data = combined_file[key]\n",
    "                    new_data = np.concatenate((existing_data, data), axis=0)\n",
    "                    del combined_file[key]  # 既存のデータセットを削除\n",
    "                    combined_file.create_dataset(key, data=new_data)  # 新しいデータセットを作成\n",
    "                else:\n",
    "                    combined_file.create_dataset(key, data=data)\n",
    "\n",
    "print(\"全ファイルが統合されました。\")\n"
   ]
  }
 ],
 "metadata": {
  "kernelspec": {
   "display_name": "base",
   "language": "python",
   "name": "python3"
  },
  "language_info": {
   "codemirror_mode": {
    "name": "ipython",
    "version": 3
   },
   "file_extension": ".py",
   "mimetype": "text/x-python",
   "name": "python",
   "nbconvert_exporter": "python",
   "pygments_lexer": "ipython3",
   "version": "3.10.13"
  }
 },
 "nbformat": 4,
 "nbformat_minor": 2
}
