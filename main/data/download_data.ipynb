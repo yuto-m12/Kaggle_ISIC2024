{
 "cells": [
  {
   "cell_type": "code",
   "execution_count": null,
   "metadata": {},
   "outputs": [],
   "source": [
    "!pwd"
   ]
  },
  {
   "cell_type": "code",
   "execution_count": null,
   "metadata": {},
   "outputs": [],
   "source": [
    "# Create Directories\n",
    "from pathlib import Path\n",
    "import os\n",
    "\n",
    "challenge_name = \"isic-2024-challenge\"\n",
    "PATH_REPO = Path(\"/root/Development/Kaggle/ISIC2024\")\n",
    "PATH_DATA = PATH_REPO / Path(\"data\")\n",
    "PATH_RAW = PATH_DATA / Path(\"raw\")\n",
    "subdir_list = [Path(\"external\"), Path(\"interim\"), Path(\"processed\"), Path(\"raw\")]\n",
    "\n",
    "for subdir in subdir_list:\n",
    "    os.makedirs(PATH_REPO / PATH_DATA / subdir, exist_ok=True)"
   ]
  },
  {
   "cell_type": "code",
   "execution_count": null,
   "metadata": {},
   "outputs": [],
   "source": [
    "create_kagglejson = False\n",
    "if create_kagglejson:\n",
    "    PATH_KAGGLE = Path(\"/root/.kaggle\")\n",
    "    os.mkdir(PATH_KAGGLE)\n",
    "    with open(PATH_KAGGLE / 'kaggle.json', 'w') as file:\n",
    "        file.write(\"\"\"\n",
    "    {\n",
    "    \"username\": \"<user_name>\",\n",
    "    \"key\": \"<api_key>\"\n",
    "    }\n",
    "    \"\"\")\n",
    "    !chmod 600 /root/.kaggle/kaggle.json\n",
    "\n"
   ]
  },
  {
   "cell_type": "code",
   "execution_count": null,
   "metadata": {},
   "outputs": [],
   "source": [
    "# Download\n",
    "!kaggle competitions download {challenge_name} -p {PATH_RAW}"
   ]
  },
  {
   "cell_type": "code",
   "execution_count": null,
   "metadata": {},
   "outputs": [],
   "source": [
    "# Unzip\n",
    "import zipfile\n",
    "import os\n",
    "\n",
    "# Path to the zip file\n",
    "zip_file_path = PATH_RAW / f\"{challenge_name}.zip\"\n",
    "\n",
    "# Directory to extract the contents to\n",
    "extract_to_path = PATH_RAW\n",
    "\n",
    "# Ensure the directory exists\n",
    "os.makedirs(extract_to_path, exist_ok=True)\n",
    "\n",
    "# Open the zip file in read mode\n",
    "with zipfile.ZipFile(zip_file_path, 'r') as zip_ref:\n",
    "    # Extract all the contents to the specified directory\n",
    "    zip_ref.extractall(extract_to_path)\n",
    "\n",
    "print(f'Files extracted to {extract_to_path}')"
   ]
  }
 ],
 "metadata": {
  "language_info": {
   "name": "python"
  }
 },
 "nbformat": 4,
 "nbformat_minor": 2
}
